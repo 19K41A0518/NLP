{
  "nbformat": 4,
  "nbformat_minor": 0,
  "metadata": {
    "colab": {
      "name": "Untitled1.ipynb",
      "provenance": [],
      "authorship_tag": "ABX9TyPuShZE28CAW2s9lZaaj7km",
      "include_colab_link": true
    },
    "kernelspec": {
      "name": "python3",
      "display_name": "Python 3"
    },
    "language_info": {
      "name": "python"
    }
  },
  "cells": [
    {
      "cell_type": "markdown",
      "metadata": {
        "id": "view-in-github",
        "colab_type": "text"
      },
      "source": [
        "<a href=\"https://colab.research.google.com/github/19K41A0518/NLP/blob/main/Assignment1.ipynb\" target=\"_parent\"><img src=\"https://colab.research.google.com/assets/colab-badge.svg\" alt=\"Open In Colab\"/></a>"
      ]
    },
    {
      "cell_type": "markdown",
      "source": [
        "3.Find stem and lemma words for the given words?\n",
        "\n",
        "“cats\"\n",
        "\n",
        "\"trouble\"\n",
        "\n",
        "\"troubling\"\n",
        "\n",
        "\"troubled\"\n",
        "\n",
        "“having”\n",
        "\n",
        "“Corriendo”\n",
        "\n",
        "“at”\n",
        "\n",
        "“was” "
      ],
      "metadata": {
        "id": "ID13NICz-CLe"
      }
    },
    {
      "cell_type": "code",
      "execution_count": 7,
      "metadata": {
        "colab": {
          "base_uri": "https://localhost:8080/"
        },
        "id": "lAGOp9MoZmoE",
        "outputId": "f4aa6caa-e2c7-4406-e7b1-ba06cb996cf0"
      },
      "outputs": [
        {
          "output_type": "stream",
          "name": "stdout",
          "text": [
            "cat\n",
            "troubl\n",
            "troubl\n",
            "troubl\n",
            "have\n",
            "corriendo\n",
            "at\n",
            "wa\n"
          ]
        }
      ],
      "source": [
        "from nltk.stem import PorterStemmer\n",
        "e_words= [\"cats\", \"trouble\", \"troubling\", \"troubled\",\"having\",\"Corriendo\",\"at\",\"was\"]\n",
        "ps =PorterStemmer()\n",
        "for w in e_words:\n",
        "    rootWord=ps.stem(w)\n",
        "    print(rootWord)"
      ]
    },
    {
      "cell_type": "code",
      "source": [
        "from nltk.stem import WordNetLemmatizer\n",
        "  \n",
        "lemmatizer = WordNetLemmatizer()\n",
        "  \n",
        "print(\"cats :\", lemmatizer.lemmatize(\"cats\"))\n",
        "print(\"trouble :\", lemmatizer.lemmatize(\"trouble\"))\n",
        "print(\"troubling :\", lemmatizer.lemmatize(\"troubling\"))\n",
        "print(\"having :\", lemmatizer.lemmatize(\"having\"))\n",
        "print(\"Corriendo :\", lemmatizer.lemmatize(\"Corriendo\"))\n",
        "print(\"at :\", lemmatizer.lemmatize(\"at\"))\n",
        "print(\"was :\", lemmatizer.lemmatize(\"was\"))\n",
        "  \n",
        "\n"
      ],
      "metadata": {
        "colab": {
          "base_uri": "https://localhost:8080/"
        },
        "id": "sYqiNj2Dvc8b",
        "outputId": "18f357ec-e04a-4f7d-bce0-21064915b98f"
      },
      "execution_count": 14,
      "outputs": [
        {
          "output_type": "stream",
          "name": "stdout",
          "text": [
            "cats : cat\n",
            "trouble : trouble\n",
            "troubling : troubling\n",
            "having : having\n",
            "Corriendo : Corriendo\n",
            "at : at\n",
            "was : wa\n"
          ]
        }
      ]
    },
    {
      "cell_type": "markdown",
      "source": [
        "6.Find (term * Doc) matrix using TF-IDF? And find cosine similarity between DOC 1 and DOC 2?\n",
        "\n",
        "DCO 1: A computer network is a set of computers sharing resources located on or provided by network nodes. The computers use common communication protocols over digital interconnections to communicate with each other. \n",
        "DOC 2: An operating system (OS) is system software that manages computer hardware, software resources, and provides common services for computer programs.\n",
        "\n",
        "Time-sharing operating systems schedule tasks for efficient use of the system and may also include accounting software for cost allocation of processor time, mass storage, printing, and other resources.\n",
        "\n",
        "DOC 3: An operating system (OS) is the program that, after being initially loaded into the computer by a boot program, manages all of the other application programs in a computer. The application programs make use of the operating system by making requests for services through a defined application program interface (API)."
      ],
      "metadata": {
        "id": "SO6vNOBU-ba3"
      }
    },
    {
      "cell_type": "code",
      "source": [
        "DocABC = ['A computer network is a set of computers sharing resources located on or provided by network nodes. The computers use common communication protocols over digital interconnections to communicate with each other.',\n",
        "'An operating system (OS) is system software that manages computer hardware, software resources, and provides common services for computer programs. Time-sharing operating systems schedule tasks for efficient use of the system and may also include accounting software for cost allocation of processor time, mass storage, printing, and other resources.',\n",
        "'An operating system (OS) is the program that, after being initially loaded into the computer by a boot program, manages all of the other application programs in a computer. The application programs make use of the operating system by making requests for services through a defined application program interface (API).']\n"
      ],
      "metadata": {
        "id": "LCfZLQRC-yWM"
      },
      "execution_count": 31,
      "outputs": []
    },
    {
      "cell_type": "code",
      "source": [
        "DocAB = ['A computer network is a set of computers sharing resources located on or provided by network nodes. The computers use common communication protocols over digital interconnections to communicate with each other.',\n",
        "'An operating system (OS) is system software that manages computer hardware, software resources, and provides common services for computer programs.Time-sharing operating systems schedule tasks for efficient use of the system and may also include accounting software for cost allocation of processor time, mass storage, printing, and other resources.']"
      ],
      "metadata": {
        "id": "WKclkdZy_Q4P"
      },
      "execution_count": 32,
      "outputs": []
    },
    {
      "cell_type": "code",
      "source": [
        "from sklearn.feature_extraction.text import TfidfVectorizer\n",
        "from sklearn.metrics.pairwise import cosine_similarity"
      ],
      "metadata": {
        "id": "vwOebMPq_XJw"
      },
      "execution_count": 33,
      "outputs": []
    },
    {
      "cell_type": "code",
      "source": [
        "tfidf_vectorizer = TfidfVectorizer()\n"
      ],
      "metadata": {
        "id": "G2-5DApr_bPr"
      },
      "execution_count": 34,
      "outputs": []
    },
    {
      "cell_type": "code",
      "source": [
        "tfidf_matrix123 = tfidf_vectorizer.fit_transform(DocABC)\n",
        "print(\"TF-IDF Matrix Shape for DOC 1, 2 & 3 : \", tfidf_matrix123.shape)\n",
        "print(tfidf_matrix123.toarray())"
      ],
      "metadata": {
        "colab": {
          "base_uri": "https://localhost:8080/"
        },
        "id": "jKaJdOut_ftV",
        "outputId": "ae5d49da-0307-4b48-c97d-6ad74fbd0634"
      },
      "execution_count": 35,
      "outputs": [
        {
          "output_type": "stream",
          "name": "stdout",
          "text": [
            "TF-IDF Matrix Shape for DOC 1, 2 & 3 :  (3, 72)\n",
            "[[0.         0.         0.         0.         0.         0.\n",
            "  0.         0.         0.         0.         0.         0.14527359\n",
            "  0.14527359 0.19101731 0.19101731 0.1128179  0.38203462 0.\n",
            "  0.         0.19101731 0.19101731 0.         0.         0.\n",
            "  0.         0.         0.         0.19101731 0.         0.\n",
            "  0.1128179  0.         0.19101731 0.         0.         0.\n",
            "  0.         0.         0.38203462 0.19101731 0.1128179  0.19101731\n",
            "  0.         0.19101731 0.         0.1128179  0.19101731 0.\n",
            "  0.         0.         0.         0.19101731 0.19101731 0.\n",
            "  0.         0.14527359 0.         0.         0.19101731 0.14527359\n",
            "  0.         0.         0.         0.         0.         0.\n",
            "  0.1128179  0.         0.         0.19101731 0.1128179  0.19101731]\n",
            " [0.12715248 0.         0.         0.12715248 0.12715248 0.09670274\n",
            "  0.38145745 0.         0.         0.         0.         0.\n",
            "  0.09670274 0.         0.         0.15019661 0.         0.12715248\n",
            "  0.         0.         0.         0.12715248 0.29010822 0.12715248\n",
            "  0.         0.12715248 0.         0.         0.         0.\n",
            "  0.0750983  0.         0.         0.         0.         0.09670274\n",
            "  0.12715248 0.12715248 0.         0.         0.15019661 0.\n",
            "  0.19340548 0.         0.09670274 0.0750983  0.         0.12715248\n",
            "  0.12715248 0.         0.09670274 0.         0.         0.12715248\n",
            "  0.         0.19340548 0.12715248 0.09670274 0.         0.09670274\n",
            "  0.38145745 0.12715248 0.29010822 0.12715248 0.12715248 0.09670274\n",
            "  0.0750983  0.         0.25430497 0.         0.0750983  0.        ]\n",
            " [0.         0.13098774 0.13098774 0.         0.         0.09961955\n",
            "  0.         0.13098774 0.39296321 0.13098774 0.13098774 0.1992391\n",
            "  0.         0.         0.         0.15472693 0.         0.\n",
            "  0.13098774 0.         0.         0.         0.09961955 0.\n",
            "  0.13098774 0.         0.13098774 0.         0.13098774 0.13098774\n",
            "  0.07736347 0.13098774 0.         0.13098774 0.13098774 0.09961955\n",
            "  0.         0.         0.         0.         0.15472693 0.\n",
            "  0.1992391  0.         0.09961955 0.07736347 0.         0.\n",
            "  0.         0.39296321 0.1992391  0.         0.         0.\n",
            "  0.13098774 0.         0.         0.09961955 0.         0.\n",
            "  0.         0.         0.1992391  0.         0.         0.09961955\n",
            "  0.38681734 0.13098774 0.         0.         0.07736347 0.        ]]\n"
          ]
        }
      ]
    },
    {
      "cell_type": "code",
      "source": [
        "tfidf_matrix12 = tfidf_vectorizer.fit_transform(DocAB)\n",
        "print(\"TF-IDF Matrix Shape for DOC 1 & 2 : \", tfidf_matrix12.shape)\n",
        "cosine_sim12 = cosine_similarity(tfidf_matrix12, tfidf_matrix12)\n",
        "print(\"Cosine Similarity Matrix Between Documents 1 & 2 : \")\n",
        "print(cosine_sim12)\n"
      ],
      "metadata": {
        "colab": {
          "base_uri": "https://localhost:8080/"
        },
        "id": "PGuYi4wIBL5D",
        "outputId": "5df7615e-5bc9-4b87-e5ee-a0a400998123"
      },
      "execution_count": 37,
      "outputs": [
        {
          "output_type": "stream",
          "name": "stdout",
          "text": [
            "TF-IDF Matrix Shape for DOC 1 & 2 :  (2, 55)\n",
            "Cosine Similarity Matrix Between Documents 1 & 2 : \n",
            "[[1.         0.13117019]\n",
            " [0.13117019 1.        ]]\n"
          ]
        }
      ]
    }
  ]
}